{
 "cells": [
  {
   "cell_type": "code",
   "execution_count": null,
   "metadata": {},
   "outputs": [],
   "source": [
    "import numpy as np\n",
    "import matplotlib.pyplot as plt\n",
    "from cosmicodes import randfil_RM\n",
    "from numpy.typing import ArrayLike\n",
    "import astropy.units as u\n",
    "from astropy.constants import c as speed_of_light\n",
    "from rm_lite.utils import synthesis\n",
    "\n",
    "plt.rcParams[\"figure.dpi\"] = (\n",
    "    72  # making this small for git uload - make it bigger for local viewing\n",
    ")"
   ]
  },
  {
   "cell_type": "code",
   "execution_count": null,
   "metadata": {},
   "outputs": [],
   "source": [
    "rm_gaussian, rm_filament = randfil_RM.randfil_RM(nax=256)"
   ]
  },
  {
   "cell_type": "code",
   "execution_count": null,
   "metadata": {},
   "outputs": [],
   "source": [
    "nx, ny = rm_gaussian.shape\n",
    "x_arr_pix = np.arange(nx)\n",
    "y_arr_pix = np.arange(ny)\n",
    "x_arr = np.linspace(-1, 1, nx)\n",
    "y_arr = np.linspace(-1, 1, ny)\n",
    "x_grid, y_grid = np.meshgrid(x_arr, y_arr)\n",
    "\n",
    "x_grid_pix, y_grid_pix = np.meshgrid(x_arr_pix, y_arr_pix)\n",
    "\n",
    "r_grid = np.hypot(x_grid, y_grid)\n",
    "\n",
    "large_scale = 10 * x_grid\n",
    "# large_scale = 20 * np.ones_like(x_grid)"
   ]
  },
  {
   "cell_type": "code",
   "execution_count": null,
   "metadata": {},
   "outputs": [],
   "source": [
    "small_scale = rm_gaussian\n",
    "all_scale = small_scale + large_scale"
   ]
  },
  {
   "cell_type": "code",
   "execution_count": null,
   "metadata": {},
   "outputs": [],
   "source": [
    "# large_scale_pi = x_grid.copy() +1\n",
    "# # large_scale_pi += large_scale_pi.min()\n",
    "# large_scale_pi /= np.max(large_scale_pi) * 2\n",
    "# small_scale_pi = np.abs(mRM_f) ** 0.5\n",
    "# small_scale_pi /= np.max(small_scale_pi) * 2\n",
    "# large_scale_pi = 0.5\n",
    "# all_scale_pi = small_scale_pi + large_scale_pi\n",
    "all_scale_pi = np.ones_like(x_grid)"
   ]
  },
  {
   "cell_type": "code",
   "execution_count": null,
   "metadata": {},
   "outputs": [],
   "source": [
    "plt.imshow(all_scale_pi)\n",
    "plt.colorbar()"
   ]
  },
  {
   "cell_type": "code",
   "execution_count": null,
   "metadata": {},
   "outputs": [],
   "source": [
    "# fig, axs = plt.subplots(1,3)\n",
    "for im_arr, title in zip(\n",
    "    (large_scale, small_scale, all_scale), (\"large scale\", \"small scale\", \"combined\")\n",
    "):\n",
    "    fig, ax = plt.subplots()\n",
    "    im = ax.imshow(\n",
    "        im_arr, origin=\"lower\", cmap=plt.cm.RdBu_r, vmin=-50, vmax=50, aspect=\"equal\"\n",
    "    )\n",
    "    fig.colorbar(im, label=\"RM\")\n",
    "    ax.set(title=title)"
   ]
  },
  {
   "cell_type": "code",
   "execution_count": null,
   "metadata": {},
   "outputs": [],
   "source": [
    "def filter_maps(\n",
    "    all_scale_arr: ArrayLike,\n",
    "    cutoff: float = 0.1,\n",
    ") -> tuple[ArrayLike, ArrayLike]:\n",
    "    # pad\n",
    "\n",
    "    padded = np.pad(all_scale_arr, all_scale_arr.shape, mode=\"reflect\")\n",
    "\n",
    "    start_x = all_scale_arr.shape[0]\n",
    "    start_y = all_scale_arr.shape[1]\n",
    "    len_x, len_y = all_scale_arr.shape\n",
    "\n",
    "    all_scale_fft = np.fft.fftshift(np.fft.fft2(padded))\n",
    "\n",
    "    nx, ny = padded.shape\n",
    "\n",
    "    x_arr = np.linspace(-1, 1, nx)\n",
    "    y_arr = np.linspace(-1, 1, ny)\n",
    "    x_grid, y_grid = np.meshgrid(x_arr, y_arr)\n",
    "\n",
    "    r_grid = np.hypot(x_grid, y_grid)\n",
    "\n",
    "    single_dish_filter = r_grid <= cutoff\n",
    "    array_filter = r_grid > cutoff\n",
    "\n",
    "    all_scale_fft_sd = all_scale_fft.copy()\n",
    "    all_scale_fft_at = all_scale_fft.copy()\n",
    "\n",
    "    all_scale_fft_sd[~single_dish_filter] = 0 + 0j\n",
    "    all_scale_fft_at[~array_filter] = 0 + 0j\n",
    "\n",
    "    all_scale_sd = np.fft.ifft2(np.fft.ifftshift(all_scale_fft_sd))\n",
    "    all_scale_at = np.fft.ifft2(all_scale_fft_at).real\n",
    "    # all_scale_round_trip = np.fft.ifft2(np.fft.ifftshift(all_scale_fft))\n",
    "\n",
    "    all_scale_sd = all_scale_sd[start_x : start_x + len_x, start_y : start_x + len_y]\n",
    "    all_scale_at = all_scale_at[start_x : start_x + len_x, start_y : start_x + len_y]\n",
    "\n",
    "    return all_scale_sd.real, all_scale_at.real"
   ]
  },
  {
   "cell_type": "code",
   "execution_count": null,
   "metadata": {},
   "outputs": [],
   "source": [
    "def rm_to_pol(\n",
    "    freq: u.Quantity,\n",
    "    rm_arr: ArrayLike,\n",
    "    pi_arr: ArrayLike | None = None,\n",
    "):\n",
    "    lsq = (speed_of_light / freq).to(u.m) ** 2\n",
    "    if pi_arr is None:\n",
    "        pi_arr = np.ones_like(rm_arr)\n",
    "    return np.exp(2j * rm_arr[..., np.newaxis] * lsq.value) * pi_arr[..., np.newaxis]"
   ]
  },
  {
   "cell_type": "code",
   "execution_count": null,
   "metadata": {},
   "outputs": [],
   "source": [
    "freq = np.arange(800, 1088, 8) * u.MHz\n",
    "wave = (speed_of_light / freq).to(u.m)\n",
    "lsq = wave**2\n",
    "all_scale_pol = rm_to_pol(freq=freq, rm_arr=all_scale, pi_arr=all_scale_pi).T"
   ]
  },
  {
   "cell_type": "code",
   "execution_count": null,
   "metadata": {},
   "outputs": [],
   "source": [
    "chan_freq = np.arange(len(freq))"
   ]
  },
  {
   "cell_type": "code",
   "execution_count": null,
   "metadata": {},
   "outputs": [],
   "source": [
    "# cutoffs = chan_freq / len(freq) * 0.2 + 0.1\n",
    "cutoffs = np.ones_like(chan_freq) * 0.05"
   ]
  },
  {
   "cell_type": "code",
   "execution_count": null,
   "metadata": {},
   "outputs": [],
   "source": [
    "plt.plot(freq, cutoffs)"
   ]
  },
  {
   "cell_type": "code",
   "execution_count": null,
   "metadata": {},
   "outputs": [],
   "source": [
    "sd_pol = np.zeros_like(all_scale_pol)\n",
    "at_pol = np.zeros_like(all_scale_pol)\n",
    "\n",
    "for chan, plane in enumerate(all_scale_pol):\n",
    "    cutoff = cutoffs[chan]\n",
    "    sd_plane_q, at_plane_q = filter_maps(plane.real, cutoff=cutoff)\n",
    "    sd_plane_u, at_plane_u = filter_maps(plane.imag, cutoff=cutoff)\n",
    "    sd_pol[chan] = sd_plane_q + 1j * sd_plane_u\n",
    "    at_pol[chan] = at_plane_q + 1j * at_plane_u"
   ]
  },
  {
   "cell_type": "code",
   "execution_count": null,
   "metadata": {},
   "outputs": [],
   "source": [
    "phis = synthesis.make_phi_arr(200, 1)"
   ]
  },
  {
   "cell_type": "code",
   "execution_count": null,
   "metadata": {},
   "outputs": [],
   "source": [
    "dirty_fdf_all_scale = synthesis.rmsynth_nufft(\n",
    "    complex_pol_arr=all_scale_pol,\n",
    "    lambda_sq_arr_m2=lsq.value,\n",
    "    phi_arr_radm2=phis,\n",
    "    weight_arr=np.ones_like(lsq.value),\n",
    "    lam_sq_0_m2=np.mean(lsq.value),\n",
    ")\n",
    "dirty_fdf_sd = synthesis.rmsynth_nufft(\n",
    "    complex_pol_arr=sd_pol,\n",
    "    lambda_sq_arr_m2=lsq.value,\n",
    "    phi_arr_radm2=phis,\n",
    "    weight_arr=np.ones_like(lsq.value),\n",
    "    lam_sq_0_m2=np.mean(lsq.value),\n",
    ")\n",
    "dirty_fdf_at = synthesis.rmsynth_nufft(\n",
    "    complex_pol_arr=at_pol,\n",
    "    lambda_sq_arr_m2=lsq.value,\n",
    "    phi_arr_radm2=phis,\n",
    "    weight_arr=np.ones_like(lsq.value),\n",
    "    lam_sq_0_m2=np.mean(lsq.value),\n",
    ")"
   ]
  },
  {
   "cell_type": "code",
   "execution_count": null,
   "metadata": {},
   "outputs": [],
   "source": [
    "max_idx = np.argmax(np.abs(dirty_fdf_all_scale), axis=0)\n",
    "max_rm_all_scale = phis[max_idx]\n",
    "\n",
    "max_idx = np.argmax(np.abs(dirty_fdf_sd), axis=0)\n",
    "max_rm_sd = phis[max_idx]\n",
    "\n",
    "\n",
    "max_idx = np.argmax(np.abs(dirty_fdf_at), axis=0)\n",
    "max_rm_at = phis[max_idx]"
   ]
  },
  {
   "cell_type": "code",
   "execution_count": null,
   "metadata": {},
   "outputs": [],
   "source": [
    "for pol_arr, title in zip(\n",
    "    (all_scale_pol, sd_pol, at_pol),\n",
    "    (\"all scales\", \"single dish\", \"array\"),\n",
    "):\n",
    "    fig, axs = plt.subplots(2, 2, figsize=(10, 10))\n",
    "    axs = axs.flatten()\n",
    "    im = axs[0].imshow(\n",
    "        pol_arr[0].real, cmap=plt.cm.RdBu_r, origin=\"lower\", vmin=-1, vmax=1\n",
    "    )\n",
    "    fig.colorbar(im, shrink=1, label=\"Q\")\n",
    "    im = axs[1].imshow(\n",
    "        pol_arr[0].imag, cmap=plt.cm.RdBu_r, origin=\"lower\", vmin=-1, vmax=1\n",
    "    )\n",
    "    fig.colorbar(im, shrink=1, label=\"U\")\n",
    "    im = axs[2].imshow(\n",
    "        np.abs(pol_arr[0]),\n",
    "        cmap=plt.cm.viridis,\n",
    "        origin=\"lower\",\n",
    "        vmin=0,\n",
    "    )\n",
    "    fig.colorbar(im, shrink=1, label=\"P\")\n",
    "    im = axs[3].imshow(\n",
    "        np.angle(pol_arr[0]),\n",
    "        cmap=plt.cm.twilight_shifted,\n",
    "        origin=\"lower\",\n",
    "        vmin=-np.pi,\n",
    "        vmax=np.pi,\n",
    "    )\n",
    "    fig.colorbar(im, shrink=1, label=\"A\")\n",
    "    fig.suptitle(f\"{title} - first channel\")\n",
    "    fig.tight_layout()"
   ]
  },
  {
   "cell_type": "code",
   "execution_count": null,
   "metadata": {},
   "outputs": [],
   "source": [
    "for rm_arr, title in zip(\n",
    "    (max_rm_all_scale, max_rm_sd, max_rm_at), (\"all\", \"single dish\", \"array\")\n",
    "):\n",
    "    fig, ax = plt.subplots()\n",
    "    im = ax.imshow(rm_arr.T, origin=\"lower\", vmin=-50, vmax=50, cmap=plt.cm.RdBu_r)\n",
    "    fig.colorbar(im, label=\"RM\")\n",
    "    ax.set(title=title)"
   ]
  },
  {
   "cell_type": "code",
   "execution_count": null,
   "metadata": {},
   "outputs": [],
   "source": [
    "fig, ax = plt.subplots()\n",
    "pi_arr = np.max(np.abs(dirty_fdf_at), axis=0)\n",
    "im = ax.imshow(\n",
    "    pi_arr,\n",
    "    origin=\"lower\",\n",
    "    # vmin=0,\n",
    "    vmax=1,\n",
    ")\n",
    "fig.colorbar(im, label=\"P\")\n",
    "ax.set(title=title)"
   ]
  },
  {
   "cell_type": "code",
   "execution_count": null,
   "metadata": {},
   "outputs": [],
   "source": [
    "for fdf_arr, title in zip(\n",
    "    (dirty_fdf_all_scale, dirty_fdf_sd, dirty_fdf_at), (\"all\", \"single dish\", \"array\")\n",
    "):\n",
    "    pi_arr = np.max(np.abs(fdf_arr), axis=0)\n",
    "    fig, ax = plt.subplots()\n",
    "    im = ax.imshow(\n",
    "        pi_arr.T,\n",
    "        origin=\"lower\",\n",
    "        vmin=0,\n",
    "    )\n",
    "    fig.colorbar(im, label=\"P\")\n",
    "    ax.set(title=title)"
   ]
  },
  {
   "cell_type": "code",
   "execution_count": null,
   "metadata": {},
   "outputs": [],
   "source": [
    "fig, ax = plt.subplots()\n",
    "im = ax.imshow(\n",
    "    (all_scale - max_rm_at.T),\n",
    "    origin=\"lower\",\n",
    "    vmin=-10,\n",
    "    vmax=10,\n",
    "    cmap=plt.cm.RdBu_r,\n",
    ")\n",
    "fig.colorbar(im, label=\"$\\Delta$RM\")\n",
    "ax.set(title=\"all - array\")"
   ]
  },
  {
   "cell_type": "code",
   "execution_count": null,
   "metadata": {},
   "outputs": [],
   "source": []
  },
  {
   "cell_type": "code",
   "execution_count": null,
   "metadata": {},
   "outputs": [],
   "source": []
  },
  {
   "cell_type": "code",
   "execution_count": null,
   "metadata": {},
   "outputs": [],
   "source": []
  }
 ],
 "metadata": {
  "kernelspec": {
   "display_name": "rm-lite",
   "language": "python",
   "name": "python3"
  },
  "language_info": {
   "codemirror_mode": {
    "name": "ipython",
    "version": 3
   },
   "file_extension": ".py",
   "mimetype": "text/x-python",
   "name": "python",
   "nbconvert_exporter": "python",
   "pygments_lexer": "ipython3",
   "version": "3.11.9"
  }
 },
 "nbformat": 4,
 "nbformat_minor": 2
}
